{
 "cells": [
  {
   "cell_type": "code",
   "execution_count": 1,
   "metadata": {},
   "outputs": [],
   "source": [
    "import pandas as pd\n",
    "import numpy as np\n",
    "import sqlite3"
   ]
  },
  {
   "cell_type": "code",
   "execution_count": 2,
   "metadata": {},
   "outputs": [],
   "source": [
    "ff = pd.read_csv(r'data.csv')"
   ]
  },
  {
   "cell_type": "code",
   "execution_count": 3,
   "metadata": {},
   "outputs": [],
   "source": [
    "ff.drop(columns=['Unnamed: 0','Photo','Flag','Club Logo','Real Face','Special'], inplace=True)"
   ]
  },
  {
   "cell_type": "code",
   "execution_count": 4,
   "metadata": {},
   "outputs": [],
   "source": [
    "ff = ff.dropna(subset = [\"Position\"]).reset_index().drop(['index'],axis=1)"
   ]
  },
  {
   "cell_type": "code",
   "execution_count": 5,
   "metadata": {},
   "outputs": [],
   "source": [
    "# ff[ff['Position'].notna()] แสดง ff ที่ position ไม่มี na \n",
    "\n",
    "# ff_ch = pd.isnull(ff[\"Reactions\"]) \n",
    "# ff[ff_ch]"
   ]
  },
  {
   "cell_type": "code",
   "execution_count": null,
   "metadata": {},
   "outputs": [],
   "source": [
    "nulls = ff.isnull().sum().to_frame()\n",
    "for c,n in nulls.iterrows():\n",
    "    print(c, n[0])"
   ]
  },
  {
   "cell_type": "code",
   "execution_count": 6,
   "metadata": {},
   "outputs": [],
   "source": [
    "GKstat = (ff.GKDiving + ff.GKHandling + ff.GKKicking + ff.GKPositioning + ff.GKReflexes + ff.Reactions) // 5.65"
   ]
  },
  {
   "cell_type": "code",
   "execution_count": 7,
   "metadata": {},
   "outputs": [],
   "source": [
    "ff.insert(loc=48, column='GK', value=GKstat)"
   ]
  },
  {
   "cell_type": "code",
   "execution_count": 8,
   "metadata": {},
   "outputs": [],
   "source": [
    "def sumstring(text): #สร้างฟัง์ชั่นแยกข้อความ \"45+2\" เปลี่ยนเป็น INT\n",
    "    temp = text.split(\"+\")\n",
    "    return  \"%u\" % int(int(temp[0])+int(temp[1]))"
   ]
  },
  {
   "cell_type": "code",
   "execution_count": 9,
   "metadata": {},
   "outputs": [],
   "source": [
    "for i in ff.loc[:,'LS':'RB']:\n",
    "    ff[i] = ff[i].apply(lambda x: sumstring(x) if pd.notnull(x)==True else x)"
   ]
  },
  {
   "cell_type": "code",
   "execution_count": null,
   "metadata": {},
   "outputs": [],
   "source": [
    "def processValue(text):\n",
    "    try:  #ติดปัญหาเงิน 0 ยูโร ใช้ try except \n",
    "        text=text[1:] #value*M or K\n",
    "    \n",
    "        #assign M or K into var plus\n",
    "        plus=text[-1]\n",
    "        \n",
    "        #keep only integer bf M or K\n",
    "        result=float(text[:-1]) #value without * M or K\n",
    "    except (ValueError, TypeError):\n",
    "        return 0\n",
    "        \n",
    "    if plus=='M':\n",
    "        result=result*(10**6)\n",
    "    elif plus=='K':\n",
    "        result=result*(10**3)\n",
    "    return \"%.2f\" % result"
   ]
  },
  {
   "cell_type": "code",
   "execution_count": null,
   "metadata": {},
   "outputs": [],
   "source": [
    "ff['Wage'] = ff['Wage'].apply(lambda x: processValue(x))\n",
    "ff['Value'] = ff['Value'].apply(lambda x: processValue(x))\n",
    "ff['Release Clause'] = ff['Release Clause'].apply(lambda x: processValue(x))"
   ]
  },
  {
   "cell_type": "code",
   "execution_count": 10,
   "metadata": {},
   "outputs": [],
   "source": [
    "def hValue(height):\n",
    "    height = height.split(\"'\")\n",
    "    height = (float(height[0])*30.48) + (float(height[1])*2.54)\n",
    "    return \"%.2f\" % height"
   ]
  },
  {
   "cell_type": "code",
   "execution_count": 11,
   "metadata": {},
   "outputs": [],
   "source": [
    "def wValue(weight):\n",
    "    weight = weight.split('lbs')\n",
    "    weight = (float(weight[0])*0.453592)\n",
    "    return \"%.2f\" % weight"
   ]
  },
  {
   "cell_type": "code",
   "execution_count": 12,
   "metadata": {},
   "outputs": [],
   "source": [
    "ff['Height'] = ff['Height'].apply(lambda x: hValue(x))\n",
    "ff['Weight'] = ff['Weight'].apply(lambda x: wValue(x))"
   ]
  },
  {
   "cell_type": "code",
   "execution_count": 13,
   "metadata": {},
   "outputs": [],
   "source": [
    "for n in range(84):\n",
    "    if ff.iloc[:,n].dtypes == 'float64':\n",
    "        ff.iloc[:,n] = ff.iloc[:,n].astype(int)\n",
    "    else:\n",
    "        continue\n",
    "    n+=1"
   ]
  },
  {
   "cell_type": "code",
   "execution_count": 14,
   "metadata": {},
   "outputs": [],
   "source": [
    "ff['Height'] = ff['Height'].astype(float)\n",
    "ff['Weight'] = ff['Weight'].astype(float)"
   ]
  },
  {
   "cell_type": "code",
   "execution_count": null,
   "metadata": {},
   "outputs": [],
   "source": [
    "ff['Wage'] = ff['Wage'].astype(float)\n",
    "ff['Value'] = ff['Value'].astype(float)\n",
    "ff['Release Clause'] = ff['Release Clause'].astype(float)"
   ]
  },
  {
   "cell_type": "code",
   "execution_count": null,
   "metadata": {},
   "outputs": [],
   "source": [
    "pd.options.display.max_columns = None"
   ]
  },
  {
   "cell_type": "code",
   "execution_count": 15,
   "metadata": {},
   "outputs": [],
   "source": [
    "def yearCT(text):\n",
    "    try:\n",
    "        y = text.split(\", \")\n",
    "        y = y[1]\n",
    "    except (IndexError, AttributeError):\n",
    "        return text\n",
    "    return y"
   ]
  },
  {
   "cell_type": "code",
   "execution_count": 16,
   "metadata": {},
   "outputs": [],
   "source": [
    "ff['Contract Valid Until'] = ff['Contract Valid Until'].apply(lambda x: yearCT(x))"
   ]
  },
  {
   "cell_type": "code",
   "execution_count": 17,
   "metadata": {},
   "outputs": [],
   "source": [
    "ff.iloc[:,22:48] = ff.iloc[:,22:48].fillna(0)"
   ]
  },
  {
   "cell_type": "code",
   "execution_count": 18,
   "metadata": {},
   "outputs": [],
   "source": [
    "ff.to_csv('ff.csv', index=False, encoding=\"utf-8-sig\")"
   ]
  },
  {
   "cell_type": "code",
   "execution_count": 19,
   "metadata": {},
   "outputs": [],
   "source": [
    "conn = sqlite3.connect('FIFA_19.db')"
   ]
  },
  {
   "cell_type": "code",
   "execution_count": 20,
   "metadata": {},
   "outputs": [],
   "source": [
    "ff.columns = ff.columns.str.replace(' ','_')"
   ]
  },
  {
   "cell_type": "code",
   "execution_count": 21,
   "metadata": {
    "scrolled": true
   },
   "outputs": [],
   "source": [
    "ff.to_sql('FIFAinfo',con=conn, index=None)"
   ]
  },
  {
   "cell_type": "code",
   "execution_count": null,
   "metadata": {},
   "outputs": [],
   "source": []
  }
 ],
 "metadata": {
  "kernelspec": {
   "display_name": "Python 3",
   "language": "python",
   "name": "python3"
  },
  "language_info": {
   "codemirror_mode": {
    "name": "ipython",
    "version": 3
   },
   "file_extension": ".py",
   "mimetype": "text/x-python",
   "name": "python",
   "nbconvert_exporter": "python",
   "pygments_lexer": "ipython3",
   "version": "3.8.5"
  }
 },
 "nbformat": 4,
 "nbformat_minor": 4
}
